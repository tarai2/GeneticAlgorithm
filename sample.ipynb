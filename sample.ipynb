{
 "cells": [
  {
   "cell_type": "code",
   "execution_count": 1,
   "metadata": {
    "ExecuteTime": {
     "end_time": "2020-07-07T13:14:56.565601Z",
     "start_time": "2020-07-07T13:14:56.444710Z"
    }
   },
   "outputs": [],
   "source": [
    "import numpy as np\n",
    "import matplotlib.pyplot as plt\n",
    "from scipy.optimize import rosen\n",
    "\n",
    "from GAframe import GeneticAlgorithm\n",
    "np.random.seed(80)"
   ]
  },
  {
   "cell_type": "markdown",
   "metadata": {},
   "source": [
    "---"
   ]
  },
  {
   "cell_type": "code",
   "execution_count": 2,
   "metadata": {
    "ExecuteTime": {
     "end_time": "2020-07-07T13:14:56.600227Z",
     "start_time": "2020-07-07T13:14:56.568386Z"
    }
   },
   "outputs": [],
   "source": [
    "def value_func(n, x, y, z):\n",
    "    return (n+1)**2 + x**2 + y**2 + z**2"
   ]
  },
  {
   "cell_type": "code",
   "execution_count": 3,
   "metadata": {
    "ExecuteTime": {
     "end_time": "2020-07-07T13:14:57.012388Z",
     "start_time": "2020-07-07T13:14:56.975915Z"
    }
   },
   "outputs": [],
   "source": [
    "# GA初期化\n",
    "ga = GeneticAlgorithm(searchMax=False)\n",
    "ndim = 3 #調べたい入力の次元数\n",
    "n_parents = 15 * ndim\n",
    "value_range = np.ones([ndim, 2])\n",
    "value_range[0] = np.array([-100, +100]) #n\n",
    "value_range[1] = np.array([-100, +100]) #x\n",
    "value_range[2] = np.array([-100, +100]) #y"
   ]
  },
  {
   "cell_type": "code",
   "execution_count": 4,
   "metadata": {
    "ExecuteTime": {
     "end_time": "2020-07-07T13:14:57.538851Z",
     "start_time": "2020-07-07T13:14:57.425312Z"
    }
   },
   "outputs": [
    {
     "name": "stdout",
     "output_type": "stream",
     "text": [
      "break @356\n"
     ]
    }
   ],
   "source": [
    "ga.initializePoints(n_parents=10*ndim, value_range=value_range, int_index=[0]) #整数で最適化したい入力はint_indexでvalue_range内の次元の番号を指定\n",
    "ga.setValueFunc(value_func, z=10) #z=10等の条件付ができる\n",
    "bestParam, fit, fitness = ga.DIDC(n_child=int(n_parents/6))"
   ]
  },
  {
   "cell_type": "code",
   "execution_count": 5,
   "metadata": {
    "ExecuteTime": {
     "end_time": "2020-07-07T13:14:57.859782Z",
     "start_time": "2020-07-07T13:14:57.820690Z"
    }
   },
   "outputs": [
    {
     "data": {
      "text/plain": [
       "array([-1.        ,  0.23574003,  0.34241436])"
      ]
     },
     "execution_count": 5,
     "metadata": {},
     "output_type": "execute_result"
    }
   ],
   "source": [
    "# 最適な入力値\n",
    "bestParam #(n, x, y)"
   ]
  },
  {
   "cell_type": "code",
   "execution_count": 6,
   "metadata": {
    "ExecuteTime": {
     "end_time": "2020-07-07T13:14:58.265540Z",
     "start_time": "2020-07-07T13:14:58.227959Z"
    }
   },
   "outputs": [
    {
     "data": {
      "text/plain": [
       "100.17282095714431"
      ]
     },
     "execution_count": 6,
     "metadata": {},
     "output_type": "execute_result"
    }
   ],
   "source": [
    "# fitは最終的にもとまった目的関数値\n",
    "fit"
   ]
  },
  {
   "cell_type": "code",
   "execution_count": 8,
   "metadata": {
    "ExecuteTime": {
     "end_time": "2020-07-07T13:16:02.383594Z",
     "start_time": "2020-07-07T13:16:02.032994Z"
    },
    "scrolled": true
   },
   "outputs": [
    {
     "data": {
      "image/png": "[encoded data removed]",
      "text/plain": [
       "<Figure size 550x300 with 1 Axes>"
      ]
     },
     "metadata": {},
     "output_type": "display_data"
    }
   ],
   "source": [
    "# fitnessは適合度(目的関数値)の時系列\n",
    "plt.plot(fitness);"
   ]
  },
  {
   "cell_type": "code",
   "execution_count": null,
   "metadata": {},
   "outputs": [],
   "source": []
  },
  {
   "cell_type": "code",
   "execution_count": null,
   "metadata": {},
   "outputs": [],
   "source": []
  }
 ],
 "metadata": {
  "@webio": {
   "lastCommId": null,
   "lastKernelId": null
  },
  "kernelspec": {
   "display_name": "Python 3.6.5 64-bit ('base': conda)",
   "language": "python",
   "name": "python36564bitbasecondab9c0ebb604ce4016b9231012202dbe39"
  },
  "language_info": {
   "codemirror_mode": {
    "name": "ipython",
    "version": 3
   },
   "file_extension": ".py",
   "mimetype": "text/x-python",
   "name": "python",
   "nbconvert_exporter": "python",
   "pygments_lexer": "ipython3",
   "version": "3.6.5"
  }
 },
 "nbformat": 4,
 "nbformat_minor": 2
}
